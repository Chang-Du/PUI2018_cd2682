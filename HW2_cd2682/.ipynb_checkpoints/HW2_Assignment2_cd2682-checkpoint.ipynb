{
 "cells": [
  {
   "cell_type": "code",
   "execution_count": 1,
   "metadata": {},
   "outputs": [],
   "source": [
    "# example of gathering, reading, and plotting data\n",
    "# developed by FBB for PUI in 2018\n",
    "# uses NYC data portal NYC OPEN DATA https://data.cityofnewyork.us/"
   ]
  },
  {
   "cell_type": "code",
   "execution_count": 2,
   "metadata": {},
   "outputs": [],
   "source": [
    "from __future__ import print_function #for compatibility beteen python2 and python3\n",
    "\n",
    "# all other needed modules will be imported as they are needed. \n",
    "# I will leave them in the cell where they become relevant BUT  \n",
    "# PEP8 standards require to move them at the top cell, \n",
    "# so you must move your imports in this cell for the homework"
   ]
  },
  {
   "cell_type": "markdown",
   "metadata": {},
   "source": [
    "# Find data on the portal"
   ]
  },
  {
   "cell_type": "markdown",
   "metadata": {},
   "source": [
    " using DHS data on shelter population\n",
    " obtained with the following steps from the website \n",
    " \n",
    " https://opendata.cityofnewyork.us/ -> Data \n",
    " \n",
    " https://opendata.cityofnewyork.us/data/ -> Department of Homeless Services (DHS) (in data by agency)\n",
    " \n",
    " https://data.cityofnewyork.us/browse?Dataset-Information_Agency=Department+of+Homeless+Services+%28DHS%29\n",
    " -> DHS daily report\n",
    " \n",
    " https://data.cityofnewyork.us/Social-Services/DHS-Daily-Report/k46n-sa2m -> View Data \n",
    " \n",
    " https://data.cityofnewyork.us/Social-Services/DHS-Daily-Report/k46n-sa2m/data -> Export\n",
    " \n",
    " this gives me various links. I copy and paste below the CSV link"
   ]
  },
  {
   "cell_type": "markdown",
   "metadata": {},
   "source": [
    "# solution 1: download from the portal \n"
   ]
  },
  {
   "cell_type": "code",
   "execution_count": 3,
   "metadata": {},
   "outputs": [
    {
     "name": "stdout",
     "output_type": "stream",
     "text": [
      "PUIdata /nfshome/cd2682/PUIdata\n"
     ]
    }
   ],
   "source": [
    "# ove the downloaded data to PUI data\n",
    "import os\n",
    "print(\"PUIdata\", os.getenv(\"PUIDATA\"))"
   ]
  },
  {
   "cell_type": "code",
   "execution_count": 4,
   "metadata": {},
   "outputs": [
    {
     "name": "stdout",
     "output_type": "stream",
     "text": [
      "Assignment2_example.ipynb  Recycling_Diversion_and_Capture_Rates.csv\r\n"
     ]
    }
   ],
   "source": [
    "#test if the data is there\n",
    "!ls $PUIDATA"
   ]
  },
  {
   "cell_type": "markdown",
   "metadata": {},
   "source": [
    "## read in the data with pandas"
   ]
  },
  {
   "cell_type": "code",
   "execution_count": 5,
   "metadata": {},
   "outputs": [],
   "source": [
    "#read in the data with pandas\n",
    "import pandas as pd\n",
    "dhs = pd.read_csv(\"%s/Recycling_Diversion_and_Capture_Rates.csv\"%os.getenv(\"PUIDATA\"))"
   ]
  },
  {
   "cell_type": "code",
   "execution_count": 6,
   "metadata": {},
   "outputs": [
    {
     "data": {
      "text/html": [
       "<div>\n",
       "<table border=\"1\" class=\"dataframe\">\n",
       "  <thead>\n",
       "    <tr style=\"text-align: right;\">\n",
       "      <th></th>\n",
       "      <th>Zone</th>\n",
       "      <th>District</th>\n",
       "      <th>Fiscal Month Number</th>\n",
       "      <th>Fiscal Year</th>\n",
       "      <th>Month Name</th>\n",
       "      <th>Diversion Rate-Total (Total Recycling / Total Waste)</th>\n",
       "      <th>Capture Rate-Paper (Total Paper / Max Paper)</th>\n",
       "      <th>Capture Rate-MGP (Total MGP / Max MGP)</th>\n",
       "      <th>Capture Rate-Total ((Total Recycling - Leaves (Recycling)) / (Max Paper + Max MGP))x100</th>\n",
       "    </tr>\n",
       "  </thead>\n",
       "  <tbody>\n",
       "    <tr>\n",
       "      <th>0</th>\n",
       "      <td>Brooklyn North</td>\n",
       "      <td>BKN01</td>\n",
       "      <td>10</td>\n",
       "      <td>2016</td>\n",
       "      <td>April</td>\n",
       "      <td>33.2</td>\n",
       "      <td>41.0</td>\n",
       "      <td>44.3</td>\n",
       "      <td>133.8</td>\n",
       "    </tr>\n",
       "    <tr>\n",
       "      <th>1</th>\n",
       "      <td>Brooklyn North</td>\n",
       "      <td>BKN02</td>\n",
       "      <td>10</td>\n",
       "      <td>2016</td>\n",
       "      <td>April</td>\n",
       "      <td>41.0</td>\n",
       "      <td>33.2</td>\n",
       "      <td>55.4</td>\n",
       "      <td>132.1</td>\n",
       "    </tr>\n",
       "    <tr>\n",
       "      <th>2</th>\n",
       "      <td>Brooklyn North</td>\n",
       "      <td>BKN03</td>\n",
       "      <td>10</td>\n",
       "      <td>2016</td>\n",
       "      <td>April</td>\n",
       "      <td>28.5</td>\n",
       "      <td>30.5</td>\n",
       "      <td>39.3</td>\n",
       "      <td>111.4</td>\n",
       "    </tr>\n",
       "    <tr>\n",
       "      <th>3</th>\n",
       "      <td>Brooklyn North</td>\n",
       "      <td>BKN04</td>\n",
       "      <td>10</td>\n",
       "      <td>2016</td>\n",
       "      <td>April</td>\n",
       "      <td>33.8</td>\n",
       "      <td>30.3</td>\n",
       "      <td>59.3</td>\n",
       "      <td>138.8</td>\n",
       "    </tr>\n",
       "    <tr>\n",
       "      <th>4</th>\n",
       "      <td>Brooklyn North</td>\n",
       "      <td>BKN05</td>\n",
       "      <td>10</td>\n",
       "      <td>2016</td>\n",
       "      <td>April</td>\n",
       "      <td>25.1</td>\n",
       "      <td>22.4</td>\n",
       "      <td>41.6</td>\n",
       "      <td>95.0</td>\n",
       "    </tr>\n",
       "    <tr>\n",
       "      <th>5</th>\n",
       "      <td>Brooklyn North</td>\n",
       "      <td>BKN08</td>\n",
       "      <td>10</td>\n",
       "      <td>2016</td>\n",
       "      <td>April</td>\n",
       "      <td>36.7</td>\n",
       "      <td>40.1</td>\n",
       "      <td>55.8</td>\n",
       "      <td>153.2</td>\n",
       "    </tr>\n",
       "    <tr>\n",
       "      <th>6</th>\n",
       "      <td>Brooklyn North</td>\n",
       "      <td>BKN09</td>\n",
       "      <td>10</td>\n",
       "      <td>2016</td>\n",
       "      <td>April</td>\n",
       "      <td>30.3</td>\n",
       "      <td>31.4</td>\n",
       "      <td>42.9</td>\n",
       "      <td>116.8</td>\n",
       "    </tr>\n",
       "    <tr>\n",
       "      <th>7</th>\n",
       "      <td>Brooklyn North</td>\n",
       "      <td>BKN16</td>\n",
       "      <td>10</td>\n",
       "      <td>2016</td>\n",
       "      <td>April</td>\n",
       "      <td>23.2</td>\n",
       "      <td>21.2</td>\n",
       "      <td>32.2</td>\n",
       "      <td>86.8</td>\n",
       "    </tr>\n",
       "  </tbody>\n",
       "</table>\n",
       "</div>"
      ],
      "text/plain": [
       "             Zone District  Fiscal Month Number  Fiscal Year Month Name  \\\n",
       "0  Brooklyn North    BKN01                   10         2016      April   \n",
       "1  Brooklyn North    BKN02                   10         2016      April   \n",
       "2  Brooklyn North    BKN03                   10         2016      April   \n",
       "3  Brooklyn North    BKN04                   10         2016      April   \n",
       "4  Brooklyn North    BKN05                   10         2016      April   \n",
       "5  Brooklyn North    BKN08                   10         2016      April   \n",
       "6  Brooklyn North    BKN09                   10         2016      April   \n",
       "7  Brooklyn North    BKN16                   10         2016      April   \n",
       "\n",
       "   Diversion Rate-Total (Total Recycling / Total Waste)  \\\n",
       "0                                               33.2      \n",
       "1                                               41.0      \n",
       "2                                               28.5      \n",
       "3                                               33.8      \n",
       "4                                               25.1      \n",
       "5                                               36.7      \n",
       "6                                               30.3      \n",
       "7                                               23.2      \n",
       "\n",
       "   Capture Rate-Paper (Total Paper / Max Paper)  \\\n",
       "0                                          41.0   \n",
       "1                                          33.2   \n",
       "2                                          30.5   \n",
       "3                                          30.3   \n",
       "4                                          22.4   \n",
       "5                                          40.1   \n",
       "6                                          31.4   \n",
       "7                                          21.2   \n",
       "\n",
       "   Capture Rate-MGP (Total MGP / Max MGP)  \\\n",
       "0                                    44.3   \n",
       "1                                    55.4   \n",
       "2                                    39.3   \n",
       "3                                    59.3   \n",
       "4                                    41.6   \n",
       "5                                    55.8   \n",
       "6                                    42.9   \n",
       "7                                    32.2   \n",
       "\n",
       "   Capture Rate-Total ((Total Recycling - Leaves (Recycling)) / (Max Paper + Max MGP))x100  \n",
       "0                                              133.8                                        \n",
       "1                                              132.1                                        \n",
       "2                                              111.4                                        \n",
       "3                                              138.8                                        \n",
       "4                                               95.0                                        \n",
       "5                                              153.2                                        \n",
       "6                                              116.8                                        \n",
       "7                                               86.8                                        "
      ]
     },
     "execution_count": 6,
     "metadata": {},
     "output_type": "execute_result"
    }
   ],
   "source": [
    "#print the fist 8 lines out\n",
    "dhs.head(8)"
   ]
  },
  {
   "cell_type": "code",
   "execution_count": 7,
   "metadata": {},
   "outputs": [
    {
     "data": {
      "text/html": [
       "<div>\n",
       "<table border=\"1\" class=\"dataframe\">\n",
       "  <thead>\n",
       "    <tr style=\"text-align: right;\">\n",
       "      <th></th>\n",
       "      <th>Zone</th>\n",
       "      <th>District</th>\n",
       "      <th>Fiscal Month Number</th>\n",
       "      <th>Fiscal Year</th>\n",
       "      <th>Month Name</th>\n",
       "      <th>Diversion Rate-Total (Total Recycling / Total Waste)</th>\n",
       "      <th>Capture Rate-Paper (Total Paper / Max Paper)</th>\n",
       "      <th>Capture Rate-MGP (Total MGP / Max MGP)</th>\n",
       "      <th>Capture Rate-Total ((Total Recycling - Leaves (Recycling)) / (Max Paper + Max MGP))x100</th>\n",
       "    </tr>\n",
       "  </thead>\n",
       "  <tbody>\n",
       "    <tr>\n",
       "      <th>2239</th>\n",
       "      <td>Staten Island</td>\n",
       "      <td>SI01</td>\n",
       "      <td>3</td>\n",
       "      <td>2018</td>\n",
       "      <td>September</td>\n",
       "      <td>43.6</td>\n",
       "      <td>37.8</td>\n",
       "      <td>81.4</td>\n",
       "      <td>173.6</td>\n",
       "    </tr>\n",
       "    <tr>\n",
       "      <th>2240</th>\n",
       "      <td>Staten Island</td>\n",
       "      <td>SI02</td>\n",
       "      <td>3</td>\n",
       "      <td>2018</td>\n",
       "      <td>September</td>\n",
       "      <td>43.5</td>\n",
       "      <td>41.8</td>\n",
       "      <td>81.2</td>\n",
       "      <td>178.5</td>\n",
       "    </tr>\n",
       "    <tr>\n",
       "      <th>2241</th>\n",
       "      <td>Staten Island</td>\n",
       "      <td>SI03</td>\n",
       "      <td>3</td>\n",
       "      <td>2018</td>\n",
       "      <td>September</td>\n",
       "      <td>44.9</td>\n",
       "      <td>44.2</td>\n",
       "      <td>87.5</td>\n",
       "      <td>187.1</td>\n",
       "    </tr>\n",
       "  </tbody>\n",
       "</table>\n",
       "</div>"
      ],
      "text/plain": [
       "               Zone District  Fiscal Month Number  Fiscal Year Month Name  \\\n",
       "2239  Staten Island     SI01                    3         2018  September   \n",
       "2240  Staten Island     SI02                    3         2018  September   \n",
       "2241  Staten Island     SI03                    3         2018  September   \n",
       "\n",
       "      Diversion Rate-Total (Total Recycling / Total Waste)  \\\n",
       "2239                                               43.6      \n",
       "2240                                               43.5      \n",
       "2241                                               44.9      \n",
       "\n",
       "      Capture Rate-Paper (Total Paper / Max Paper)  \\\n",
       "2239                                          37.8   \n",
       "2240                                          41.8   \n",
       "2241                                          44.2   \n",
       "\n",
       "      Capture Rate-MGP (Total MGP / Max MGP)  \\\n",
       "2239                                    81.4   \n",
       "2240                                    81.2   \n",
       "2241                                    87.5   \n",
       "\n",
       "      Capture Rate-Total ((Total Recycling - Leaves (Recycling)) / (Max Paper + Max MGP))x100  \n",
       "2239                                              173.6                                        \n",
       "2240                                              178.5                                        \n",
       "2241                                              187.1                                        "
      ]
     },
     "execution_count": 7,
     "metadata": {},
     "output_type": "execute_result"
    }
   ],
   "source": [
    "#print the last 3 lines out\n",
    "dhs.tail(3)"
   ]
  },
  {
   "cell_type": "code",
   "execution_count": 8,
   "metadata": {},
   "outputs": [
    {
     "data": {
      "text/plain": [
       "Index([u'Zone', u'District', u'Fiscal Month Number', u'Fiscal Year',\n",
       "       u'Month Name', u'Diversion Rate-Total (Total Recycling / Total Waste)',\n",
       "       u'Capture Rate-Paper (Total Paper / Max Paper)',\n",
       "       u'Capture Rate-MGP (Total MGP / Max MGP)',\n",
       "       u'Capture Rate-Total ((Total Recycling - Leaves (Recycling)) / (Max Paper + Max MGP))x100'],\n",
       "      dtype='object')"
      ]
     },
     "execution_count": 8,
     "metadata": {},
     "output_type": "execute_result"
    }
   ],
   "source": [
    "#look at the columns available, those are the variables\n",
    "dhs.columns"
   ]
  },
  {
   "cell_type": "code",
   "execution_count": 9,
   "metadata": {},
   "outputs": [
    {
     "data": {
      "text/plain": [
       "20178"
      ]
     },
     "execution_count": 9,
     "metadata": {},
     "output_type": "execute_result"
    }
   ],
   "source": [
    "#count how many rows, those are the data points\n",
    "dhs.size"
   ]
  },
  {
   "cell_type": "code",
   "execution_count": 10,
   "metadata": {},
   "outputs": [],
   "source": [
    "#select 2 columns only for plotting\n",
    "dhs_2c = dhs[['Capture Rate-Total ((Total Recycling - Leaves (Recycling)) / (Max Paper + Max MGP))x100', 'Capture Rate-Paper (Total Paper / Max Paper)']]"
   ]
  },
  {
   "cell_type": "code",
   "execution_count": 11,
   "metadata": {},
   "outputs": [
    {
     "data": {
      "text/html": [
       "<div>\n",
       "<table border=\"1\" class=\"dataframe\">\n",
       "  <thead>\n",
       "    <tr style=\"text-align: right;\">\n",
       "      <th></th>\n",
       "      <th>Capture Rate-Total ((Total Recycling - Leaves (Recycling)) / (Max Paper + Max MGP))x100</th>\n",
       "      <th>Capture Rate-Paper (Total Paper / Max Paper)</th>\n",
       "    </tr>\n",
       "  </thead>\n",
       "  <tbody>\n",
       "    <tr>\n",
       "      <th>0</th>\n",
       "      <td>133.8</td>\n",
       "      <td>41.0</td>\n",
       "    </tr>\n",
       "    <tr>\n",
       "      <th>1</th>\n",
       "      <td>132.1</td>\n",
       "      <td>33.2</td>\n",
       "    </tr>\n",
       "    <tr>\n",
       "      <th>2</th>\n",
       "      <td>111.4</td>\n",
       "      <td>30.5</td>\n",
       "    </tr>\n",
       "    <tr>\n",
       "      <th>3</th>\n",
       "      <td>138.8</td>\n",
       "      <td>30.3</td>\n",
       "    </tr>\n",
       "    <tr>\n",
       "      <th>4</th>\n",
       "      <td>95.0</td>\n",
       "      <td>22.4</td>\n",
       "    </tr>\n",
       "  </tbody>\n",
       "</table>\n",
       "</div>"
      ],
      "text/plain": [
       "   Capture Rate-Total ((Total Recycling - Leaves (Recycling)) / (Max Paper + Max MGP))x100  \\\n",
       "0                                              133.8                                         \n",
       "1                                              132.1                                         \n",
       "2                                              111.4                                         \n",
       "3                                              138.8                                         \n",
       "4                                               95.0                                         \n",
       "\n",
       "   Capture Rate-Paper (Total Paper / Max Paper)  \n",
       "0                                          41.0  \n",
       "1                                          33.2  \n",
       "2                                          30.5  \n",
       "3                                          30.3  \n",
       "4                                          22.4  "
      ]
     },
     "execution_count": 11,
     "metadata": {},
     "output_type": "execute_result"
    }
   ],
   "source": [
    "dhs_2c.head()"
   ]
  },
  {
   "cell_type": "markdown",
   "metadata": {},
   "source": [
    "## plot the data"
   ]
  },
  {
   "cell_type": "code",
   "execution_count": 12,
   "metadata": {},
   "outputs": [
    {
     "data": {
      "text/plain": [
       "<matplotlib.axes._subplots.AxesSubplot at 0x7f7d464bc450>"
      ]
     },
     "execution_count": 12,
     "metadata": {},
     "output_type": "execute_result"
    }
   ],
   "source": [
    "dhs_2c.plot(x=\"Capture Rate-Paper (Total Paper / Max Paper)\", y=\"Capture Rate-Total ((Total Recycling - Leaves (Recycling)) / (Max Paper + Max MGP))x100\")"
   ]
  },
  {
   "cell_type": "code",
   "execution_count": 13,
   "metadata": {},
   "outputs": [],
   "source": [
    "# wont show anything if i do not use the magic command to show plots in the notebook \n",
    "#(or use pl.show to pop up a window, but for the homework plots have to be embedded)"
   ]
  },
  {
   "cell_type": "code",
   "execution_count": 14,
   "metadata": {},
   "outputs": [
    {
     "name": "stdout",
     "output_type": "stream",
     "text": [
      "Populating the interactive namespace from numpy and matplotlib\n"
     ]
    }
   ],
   "source": [
    "%pylab inline"
   ]
  },
  {
   "cell_type": "code",
   "execution_count": 15,
   "metadata": {},
   "outputs": [
    {
     "data": {
      "image/png": "[encoded data removed]",
      "text/plain": [
       "<matplotlib.figure.Figure at 0x7f7d48987a90>"
      ]
     },
     "metadata": {},
     "output_type": "display_data"
    }
   ],
   "source": [
    "dhs_2c.plot(x=\"Capture Rate-Paper (Total Paper / Max Paper)\", y=\"Capture Rate-Total ((Total Recycling - Leaves (Recycling)) / (Max Paper + Max MGP))x100\", kind='scatter');\n",
    "# every plot needs a caption that explains to the reader \n",
    "# 1) WHAT what the reader is loooking at and \n",
    "# 2) WHY why the reader is looking at it here in the analysis \n",
    "#      (in this case there is no why cause this plot is not part of an analysis)\n",
    "# 3) TAKE HOME what is the take home point for the plot in the analysis \n",
    "#      (also there is no take home point here cause we are not doind an analysis but you can point out interesting features)"
   ]
  },
  {
   "cell_type": "markdown",
   "metadata": {},
   "source": [
    "Figure 1: \n",
    "The Capture Rate of Paper against Capture Rate of Total Recycling in NYC as reported by the Department of Sanitation (DSNY) 4/2016 and 9/2018. The two variable display a linear correlation. The capture rate of total recycling will increase with the increasing capture rate of paper."
   ]
  },
  {
   "cell_type": "markdown",
   "metadata": {},
   "source": [
    "# solution 2: Use API and download a json file"
   ]
  },
  {
   "cell_type": "markdown",
   "metadata": {},
   "source": [
    "from the dataset export link now go to -> SODA API and the the endpoint"
   ]
  },
  {
   "cell_type": "code",
   "execution_count": 16,
   "metadata": {},
   "outputs": [],
   "source": [
    "url = \"https://data.cityofnewyork.us/resource/kuz6-hiwt.json\""
   ]
  },
  {
   "cell_type": "code",
   "execution_count": 17,
   "metadata": {},
   "outputs": [],
   "source": [
    "#use the appropriatepandas function to read in the json file\n",
    "df = pd.read_json(url)"
   ]
  },
  {
   "cell_type": "code",
   "execution_count": 18,
   "metadata": {},
   "outputs": [
    {
     "data": {
      "text/html": [
       "<div>\n",
       "<table border=\"1\" class=\"dataframe\">\n",
       "  <thead>\n",
       "    <tr style=\"text-align: right;\">\n",
       "      <th></th>\n",
       "      <th>_zone</th>\n",
       "      <th>capture_rate_mgp_total_mgp_max_mgp_</th>\n",
       "      <th>capture_rate_paper_total_paper_max_paper_</th>\n",
       "      <th>capture_rate_total_total_recycling_leaves_recycling_max_paper_max_mgp_x100</th>\n",
       "      <th>district</th>\n",
       "      <th>diversion_rate_total_total_recycling_total_waste_</th>\n",
       "      <th>fiscal_month_number</th>\n",
       "      <th>fiscal_year</th>\n",
       "      <th>month_name</th>\n",
       "    </tr>\n",
       "  </thead>\n",
       "  <tbody>\n",
       "    <tr>\n",
       "      <th>0</th>\n",
       "      <td>Manhattan</td>\n",
       "      <td>60.102214</td>\n",
       "      <td>31.440321</td>\n",
       "      <td>119.666299</td>\n",
       "      <td>MN05</td>\n",
       "      <td>44.015553</td>\n",
       "      <td>8</td>\n",
       "      <td>2018</td>\n",
       "      <td>February</td>\n",
       "    </tr>\n",
       "    <tr>\n",
       "      <th>1</th>\n",
       "      <td>Bronx</td>\n",
       "      <td>29.080288</td>\n",
       "      <td>21.471825</td>\n",
       "      <td>66.431032</td>\n",
       "      <td>BX01</td>\n",
       "      <td>18.279678</td>\n",
       "      <td>8</td>\n",
       "      <td>2016</td>\n",
       "      <td>February</td>\n",
       "    </tr>\n",
       "    <tr>\n",
       "      <th>2</th>\n",
       "      <td>Bronx</td>\n",
       "      <td>48.903162</td>\n",
       "      <td>25.064680</td>\n",
       "      <td>97.730440</td>\n",
       "      <td>BX05</td>\n",
       "      <td>25.043023</td>\n",
       "      <td>5</td>\n",
       "      <td>2018</td>\n",
       "      <td>November</td>\n",
       "    </tr>\n",
       "  </tbody>\n",
       "</table>\n",
       "</div>"
      ],
      "text/plain": [
       "       _zone  capture_rate_mgp_total_mgp_max_mgp_  \\\n",
       "0  Manhattan                            60.102214   \n",
       "1      Bronx                            29.080288   \n",
       "2      Bronx                            48.903162   \n",
       "\n",
       "   capture_rate_paper_total_paper_max_paper_  \\\n",
       "0                                  31.440321   \n",
       "1                                  21.471825   \n",
       "2                                  25.064680   \n",
       "\n",
       "   capture_rate_total_total_recycling_leaves_recycling_max_paper_max_mgp_x100  \\\n",
       "0                                         119.666299                            \n",
       "1                                          66.431032                            \n",
       "2                                          97.730440                            \n",
       "\n",
       "  district  diversion_rate_total_total_recycling_total_waste_  \\\n",
       "0     MN05                                          44.015553   \n",
       "1     BX01                                          18.279678   \n",
       "2     BX05                                          25.043023   \n",
       "\n",
       "   fiscal_month_number  fiscal_year month_name  \n",
       "0                    8         2018   February  \n",
       "1                    8         2016   February  \n",
       "2                    5         2018   November  "
      ]
     },
     "execution_count": 18,
     "metadata": {},
     "output_type": "execute_result"
    }
   ],
   "source": [
    "# print it out\n",
    "df.head(3)"
   ]
  },
  {
   "cell_type": "code",
   "execution_count": 63,
   "metadata": {},
   "outputs": [],
   "source": [
    "df['date'] = df['fiscal_year'].astype(str) +'-'+ df['fiscal_month_number'].astype(str)"
   ]
  },
  {
   "cell_type": "code",
   "execution_count": 80,
   "metadata": {},
   "outputs": [],
   "source": [
    "#df.head(3)"
   ]
  },
  {
   "cell_type": "code",
   "execution_count": 75,
   "metadata": {},
   "outputs": [],
   "source": [
    "del df['formatted']"
   ]
  },
  {
   "cell_type": "code",
   "execution_count": 79,
   "metadata": {},
   "outputs": [],
   "source": [
    "#df.head(3)"
   ]
  },
  {
   "cell_type": "code",
   "execution_count": 77,
   "metadata": {},
   "outputs": [],
   "source": [
    "del df['Date']"
   ]
  },
  {
   "cell_type": "code",
   "execution_count": 78,
   "metadata": {},
   "outputs": [
    {
     "data": {
      "text/html": [
       "<div>\n",
       "<table border=\"1\" class=\"dataframe\">\n",
       "  <thead>\n",
       "    <tr style=\"text-align: right;\">\n",
       "      <th></th>\n",
       "      <th>_zone</th>\n",
       "      <th>capture_rate_mgp_total_mgp_max_mgp_</th>\n",
       "      <th>capture_rate_paper_total_paper_max_paper_</th>\n",
       "      <th>capture_rate_total_total_recycling_leaves_recycling_max_paper_max_mgp_x100</th>\n",
       "      <th>district</th>\n",
       "      <th>diversion_rate_total_total_recycling_total_waste_</th>\n",
       "      <th>fiscal_month_number</th>\n",
       "      <th>fiscal_year</th>\n",
       "      <th>month_name</th>\n",
       "      <th>date</th>\n",
       "    </tr>\n",
       "  </thead>\n",
       "  <tbody>\n",
       "    <tr>\n",
       "      <th>0</th>\n",
       "      <td>Manhattan</td>\n",
       "      <td>60.102214</td>\n",
       "      <td>31.440321</td>\n",
       "      <td>119.666299</td>\n",
       "      <td>MN05</td>\n",
       "      <td>44.015553</td>\n",
       "      <td>8</td>\n",
       "      <td>2018</td>\n",
       "      <td>February</td>\n",
       "      <td>2018-8</td>\n",
       "    </tr>\n",
       "    <tr>\n",
       "      <th>1</th>\n",
       "      <td>Bronx</td>\n",
       "      <td>29.080288</td>\n",
       "      <td>21.471825</td>\n",
       "      <td>66.431032</td>\n",
       "      <td>BX01</td>\n",
       "      <td>18.279678</td>\n",
       "      <td>8</td>\n",
       "      <td>2016</td>\n",
       "      <td>February</td>\n",
       "      <td>2016-8</td>\n",
       "    </tr>\n",
       "    <tr>\n",
       "      <th>2</th>\n",
       "      <td>Bronx</td>\n",
       "      <td>48.903162</td>\n",
       "      <td>25.064680</td>\n",
       "      <td>97.730440</td>\n",
       "      <td>BX05</td>\n",
       "      <td>25.043023</td>\n",
       "      <td>5</td>\n",
       "      <td>2018</td>\n",
       "      <td>November</td>\n",
       "      <td>2018-5</td>\n",
       "    </tr>\n",
       "  </tbody>\n",
       "</table>\n",
       "</div>"
      ],
      "text/plain": [
       "       _zone  capture_rate_mgp_total_mgp_max_mgp_  \\\n",
       "0  Manhattan                            60.102214   \n",
       "1      Bronx                            29.080288   \n",
       "2      Bronx                            48.903162   \n",
       "\n",
       "   capture_rate_paper_total_paper_max_paper_  \\\n",
       "0                                  31.440321   \n",
       "1                                  21.471825   \n",
       "2                                  25.064680   \n",
       "\n",
       "   capture_rate_total_total_recycling_leaves_recycling_max_paper_max_mgp_x100  \\\n",
       "0                                         119.666299                            \n",
       "1                                          66.431032                            \n",
       "2                                          97.730440                            \n",
       "\n",
       "  district  diversion_rate_total_total_recycling_total_waste_  \\\n",
       "0     MN05                                          44.015553   \n",
       "1     BX01                                          18.279678   \n",
       "2     BX05                                          25.043023   \n",
       "\n",
       "   fiscal_month_number  fiscal_year month_name    date  \n",
       "0                    8         2018   February  2018-8  \n",
       "1                    8         2016   February  2016-8  \n",
       "2                    5         2018   November  2018-5  "
      ]
     },
     "execution_count": 78,
     "metadata": {},
     "output_type": "execute_result"
    }
   ],
   "source": [
    "df.head(3)"
   ]
  },
  {
   "cell_type": "code",
   "execution_count": 65,
   "metadata": {},
   "outputs": [],
   "source": [
    "#now select a date and 2 variables\n",
    "dhs_3c = df[['date', 'capture_rate_paper_total_paper_max_paper_', 'capture_rate_total_total_recycling_leaves_recycling_max_paper_max_mgp_x100']]"
   ]
  },
  {
   "cell_type": "markdown",
   "metadata": {},
   "source": [
    "for consistency with the data above, I will change the names of the columns (variables) to be the same as before. This way the plots will come out with the same labels and legends"
   ]
  },
  {
   "cell_type": "code",
   "execution_count": 66,
   "metadata": {},
   "outputs": [],
   "source": [
    "dhs_3c.rename(columns = {'date':'Date', \n",
    "               'capture_rate_paper_total_paper_max_paper_':'Capture Rate-Paper (Total Paper / Max Paper)', \n",
    "               'capture_rate_total_total_recycling_leaves_recycling_max_paper_max_mgp_x100': 'Capture Rate-Total ((Total Recycling - Leaves (Recycling)) / (Max Paper + Max MGP))x100'}, inplace=True)"
   ]
  },
  {
   "cell_type": "code",
   "execution_count": 81,
   "metadata": {},
   "outputs": [
    {
     "data": {
      "image/png": "[encoded data removed]",
      "text/plain": [
       "<matplotlib.figure.Figure at 0x7f7d43e8eb50>"
      ]
     },
     "metadata": {},
     "output_type": "display_data"
    }
   ],
   "source": [
    "#as a default this plot wont have a y label, but all plots must have axis labels!\n",
    "ax = dhs_3c.plot(x='Date', y='Capture Rate-Paper (Total Paper / Max Paper)');\n",
    "ax.set_ylabel(\"Capture Rate\");"
   ]
  },
  {
   "cell_type": "markdown",
   "metadata": {},
   "source": [
    "i do not like the formatting of those dates so I will drom the timestamp overwriting the original column. \n",
    "for more info on baisc timestamp manipulation \n",
    "( no capation cause I am remaking this figure)\n"
   ]
  },
  {
   "cell_type": "code",
   "execution_count": 72,
   "metadata": {},
   "outputs": [
    {
     "name": "stderr",
     "output_type": "stream",
     "text": [
      "/usr/local/Anaconda3-5.0.0-Linux-x86_64/envs/PUI2016_Python2/lib/python2.7/site-packages/ipykernel/__main__.py:1: SettingWithCopyWarning: \n",
      "A value is trying to be set on a copy of a slice from a DataFrame.\n",
      "Try using .loc[row_indexer,col_indexer] = value instead\n",
      "\n",
      "See the caveats in the documentation: http://pandas.pydata.org/pandas-docs/stable/indexing.html#indexing-view-versus-copy\n",
      "  if __name__ == '__main__':\n"
     ]
    }
   ],
   "source": [
    "dhs_3c['Date'] = dhs_3c['Date'].apply(lambda x: pd.Timestamp(x))"
   ]
  },
  {
   "cell_type": "markdown",
   "metadata": {},
   "source": [
    "now that I am using timestamps (instead of strings as the data got read in form the json file) Pandas know to rotate the labels appropriately so I can drop rot=90"
   ]
  },
  {
   "cell_type": "code",
   "execution_count": 73,
   "metadata": {},
   "outputs": [
    {
     "data": {
      "image/png": "[encoded data removed]",
      "text/plain": [
       "<matplotlib.figure.Figure at 0x7f7d43e6ef90>"
      ]
     },
     "metadata": {},
     "output_type": "display_data"
    }
   ],
   "source": [
    "ax = dhs_3c.plot(x='Date', y='Capture Rate-Paper (Total Paper / Max Paper)')\n",
    "ax.set_ylabel(\"Capture Rate\");"
   ]
  },
  {
   "cell_type": "markdown",
   "metadata": {},
   "source": [
    "Figure 2: \n",
    "The capture rate of paper recycled in NYC between the fiscal year of 4/2016 and 7/2018. The number peaks in 4/2017. there is no single trend."
   ]
  },
  {
   "cell_type": "code",
   "execution_count": 74,
   "metadata": {},
   "outputs": [
    {
     "data": {
      "image/png": "[encoded data removed]",
      "text/plain": [
       "<matplotlib.figure.Figure at 0x7f7d43bac050>"
      ]
     },
     "metadata": {},
     "output_type": "display_data"
    }
   ],
   "source": [
    "#plot the other columns\n",
    "ax = dhs_3c.plot(x='Date', y='Capture Rate-Total ((Total Recycling - Leaves (Recycling)) / (Max Paper + Max MGP))x100')\n",
    "ax.set_ylabel(\"Capture Rate\");"
   ]
  },
  {
   "cell_type": "markdown",
   "metadata": {},
   "source": [
    "Figure 3: \n",
    "The capture rate of total recycled in NYC between the fiscal year of 4/2016 and 7/2018. The number peaks in 5/2016. there is no single trend."
   ]
  },
  {
   "cell_type": "code",
   "execution_count": null,
   "metadata": {},
   "outputs": [],
   "source": []
  }
 ],
 "metadata": {
  "kernelspec": {
   "display_name": "Python 3",
   "language": "python",
   "name": "python3"
  },
  "language_info": {
   "codemirror_mode": {
    "name": "ipython",
    "version": 3
   },
   "file_extension": ".py",
   "mimetype": "text/x-python",
   "name": "python",
   "nbconvert_exporter": "python",
   "pygments_lexer": "ipython3",
   "version": "3.6.5"
  }
 },
 "nbformat": 4,
 "nbformat_minor": 2
}
